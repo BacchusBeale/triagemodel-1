{
 "cells": [
  {
   "cell_type": "code",
   "execution_count": 1,
   "metadata": {},
   "outputs": [],
   "source": [
    "import feather\n",
    "import pandas as pd\n",
    "import numpy as np\n",
    "from numpy import random\n",
    "from sklearn.model_selection import train_test_split\n",
    "from sklearn.feature_extraction.text import CountVectorizer, TfidfVectorizer\n",
    "from sklearn.preprocessing import LabelBinarizer, LabelEncoder\n",
    "from sklearn.compose import ColumnTransformer\n",
    "from sklearn.pipeline import Pipeline\n",
    "from sklearn.impute import SimpleImputer\n",
    "from sklearn.preprocessing import StandardScaler, OneHotEncoder\n",
    "from sklearn.metrics import accuracy_score, confusion_matrix\n",
    "from sklearn.model_selection import cross_val_score\n",
    "import xgboost as xgb\n",
    "import joblib"
   ]
  },
  {
   "cell_type": "code",
   "execution_count": 2,
   "metadata": {
    "scrolled": true
   },
   "outputs": [
    {
     "data": {
      "text/html": [
       "<div>\n",
       "<style scoped>\n",
       "    .dataframe tbody tr th:only-of-type {\n",
       "        vertical-align: middle;\n",
       "    }\n",
       "\n",
       "    .dataframe tbody tr th {\n",
       "        vertical-align: top;\n",
       "    }\n",
       "\n",
       "    .dataframe thead th {\n",
       "        text-align: right;\n",
       "    }\n",
       "</style>\n",
       "<table border=\"1\" class=\"dataframe\">\n",
       "  <thead>\n",
       "    <tr style=\"text-align: right;\">\n",
       "      <th></th>\n",
       "      <th>ID</th>\n",
       "      <th>TRIAGE_CATEGORY</th>\n",
       "      <th>CHRONIC_HISTORY</th>\n",
       "      <th>TEXT</th>\n",
       "    </tr>\n",
       "  </thead>\n",
       "  <tbody>\n",
       "    <tr>\n",
       "      <th>0</th>\n",
       "      <td>d5db547ae8e87d127ce0d4e51447befa5ff5012b_2019-...</td>\n",
       "      <td>3</td>\n",
       "      <td>1.0</td>\n",
       "      <td>abdomen distension last days vomiting patient ...</td>\n",
       "    </tr>\n",
       "    <tr>\n",
       "      <th>1</th>\n",
       "      <td>8ba1ffcd025f4002f0a94b9e5414a8868b40604f_2018-...</td>\n",
       "      <td>3</td>\n",
       "      <td>0.0</td>\n",
       "      <td>gp referal low hb saw gp feeling lethargic rec...</td>\n",
       "    </tr>\n",
       "    <tr>\n",
       "      <th>2</th>\n",
       "      <td>75ccf97f6dbc795bd0bfc34067ab6b1a3d7e9325_2017-...</td>\n",
       "      <td>2</td>\n",
       "      <td>0.0</td>\n",
       "      <td>referred lmo ascitic tap c sob past days e abd...</td>\n",
       "    </tr>\n",
       "    <tr>\n",
       "      <th>3</th>\n",
       "      <td>ce3585171e5bf2dbaa366ebb9157cdbd790bcd66_2017-...</td>\n",
       "      <td>3</td>\n",
       "      <td>0.0</td>\n",
       "      <td>referred lmo w increasing abdomen distention NA</td>\n",
       "    </tr>\n",
       "    <tr>\n",
       "      <th>4</th>\n",
       "      <td>2e1a4fc5fb8bd00cd0ebb96848a2d72e19ff8450_2019-...</td>\n",
       "      <td>3</td>\n",
       "      <td>0.0</td>\n",
       "      <td>presented abdomen bloating taking lasix last d...</td>\n",
       "    </tr>\n",
       "    <tr>\n",
       "      <th>5</th>\n",
       "      <td>9801e2c709c01d192846b111486761d624195d3d_2017-...</td>\n",
       "      <td>3</td>\n",
       "      <td>1.0</td>\n",
       "      <td>biba  bilateral oedema abdomen distension rece...</td>\n",
       "    </tr>\n",
       "    <tr>\n",
       "      <th>6</th>\n",
       "      <td>cbdad23f6ecfd13126b581b58b67c556bbe80ed5_2018-...</td>\n",
       "      <td>3</td>\n",
       "      <td>1.0</td>\n",
       "      <td>biba  days bowel movements group home followed...</td>\n",
       "    </tr>\n",
       "    <tr>\n",
       "      <th>7</th>\n",
       "      <td>0e6a0a3413b9564c047f307122ff8d97413bc454_2017-...</td>\n",
       "      <td>2</td>\n",
       "      <td>0.0</td>\n",
       "      <td>patient biba home distended abdomen due parace...</td>\n",
       "    </tr>\n",
       "    <tr>\n",
       "      <th>8</th>\n",
       "      <td>dc6bcdf7172899c263bbd9589fd72e0bbcdb871e_2019-...</td>\n",
       "      <td>4</td>\n",
       "      <td>1.0</td>\n",
       "      <td>abdominal distension associated sob last drain...</td>\n",
       "    </tr>\n",
       "    <tr>\n",
       "      <th>9</th>\n",
       "      <td>cbbd84e19d92fae86072b3d154dc2a1b3ac1cd93_2019-...</td>\n",
       "      <td>3</td>\n",
       "      <td>1.0</td>\n",
       "      <td>gp abdominal distension history ascites assoc...</td>\n",
       "    </tr>\n",
       "  </tbody>\n",
       "</table>\n",
       "</div>"
      ],
      "text/plain": [
       "                                                  ID TRIAGE_CATEGORY  \\\n",
       "0  d5db547ae8e87d127ce0d4e51447befa5ff5012b_2019-...               3   \n",
       "1  8ba1ffcd025f4002f0a94b9e5414a8868b40604f_2018-...               3   \n",
       "2  75ccf97f6dbc795bd0bfc34067ab6b1a3d7e9325_2017-...               2   \n",
       "3  ce3585171e5bf2dbaa366ebb9157cdbd790bcd66_2017-...               3   \n",
       "4  2e1a4fc5fb8bd00cd0ebb96848a2d72e19ff8450_2019-...               3   \n",
       "5  9801e2c709c01d192846b111486761d624195d3d_2017-...               3   \n",
       "6  cbdad23f6ecfd13126b581b58b67c556bbe80ed5_2018-...               3   \n",
       "7  0e6a0a3413b9564c047f307122ff8d97413bc454_2017-...               2   \n",
       "8  dc6bcdf7172899c263bbd9589fd72e0bbcdb871e_2019-...               4   \n",
       "9  cbbd84e19d92fae86072b3d154dc2a1b3ac1cd93_2019-...               3   \n",
       "\n",
       "   CHRONIC_HISTORY                                               TEXT  \n",
       "0              1.0  abdomen distension last days vomiting patient ...  \n",
       "1              0.0  gp referal low hb saw gp feeling lethargic rec...  \n",
       "2              0.0  referred lmo ascitic tap c sob past days e abd...  \n",
       "3              0.0    referred lmo w increasing abdomen distention NA  \n",
       "4              0.0  presented abdomen bloating taking lasix last d...  \n",
       "5              1.0  biba  bilateral oedema abdomen distension rece...  \n",
       "6              1.0  biba  days bowel movements group home followed...  \n",
       "7              0.0  patient biba home distended abdomen due parace...  \n",
       "8              1.0  abdominal distension associated sob last drain...  \n",
       "9              1.0   gp abdominal distension history ascites assoc...  "
      ]
     },
     "execution_count": 2,
     "metadata": {},
     "output_type": "execute_result"
    }
   ],
   "source": [
    "# load data\n",
    "path = 'INITIAL_TEXT'\n",
    "df = feather.read_dataframe(path)\n",
    "#df = df.loc[:]\n",
    "# Remove ID column\n",
    "#df = df.loc[:, df.columns != 'ID']\n",
    "df.head(10)"
   ]
  },
  {
   "cell_type": "code",
   "execution_count": 3,
   "metadata": {},
   "outputs": [
    {
     "data": {
      "text/html": [
       "<div>\n",
       "<style scoped>\n",
       "    .dataframe tbody tr th:only-of-type {\n",
       "        vertical-align: middle;\n",
       "    }\n",
       "\n",
       "    .dataframe tbody tr th {\n",
       "        vertical-align: top;\n",
       "    }\n",
       "\n",
       "    .dataframe thead th {\n",
       "        text-align: right;\n",
       "    }\n",
       "</style>\n",
       "<table border=\"1\" class=\"dataframe\">\n",
       "  <thead>\n",
       "    <tr style=\"text-align: right;\">\n",
       "      <th></th>\n",
       "      <th>TEXT</th>\n",
       "      <th>CHRONIC_HISTORY</th>\n",
       "    </tr>\n",
       "  </thead>\n",
       "  <tbody>\n",
       "    <tr>\n",
       "      <th>0</th>\n",
       "      <td>abdomen distension last days vomiting patient ...</td>\n",
       "      <td>1.0</td>\n",
       "    </tr>\n",
       "    <tr>\n",
       "      <th>1</th>\n",
       "      <td>gp referal low hb saw gp feeling lethargic rec...</td>\n",
       "      <td>0.0</td>\n",
       "    </tr>\n",
       "    <tr>\n",
       "      <th>2</th>\n",
       "      <td>referred lmo ascitic tap c sob past days e abd...</td>\n",
       "      <td>0.0</td>\n",
       "    </tr>\n",
       "    <tr>\n",
       "      <th>3</th>\n",
       "      <td>referred lmo w increasing abdomen distention NA</td>\n",
       "      <td>0.0</td>\n",
       "    </tr>\n",
       "    <tr>\n",
       "      <th>4</th>\n",
       "      <td>presented abdomen bloating taking lasix last d...</td>\n",
       "      <td>0.0</td>\n",
       "    </tr>\n",
       "    <tr>\n",
       "      <th>...</th>\n",
       "      <td>...</td>\n",
       "      <td>...</td>\n",
       "    </tr>\n",
       "    <tr>\n",
       "      <th>556293</th>\n",
       "      <td>f mdh surgery right vomiting possible pancreat...</td>\n",
       "      <td>0.0</td>\n",
       "    </tr>\n",
       "    <tr>\n",
       "      <th>556294</th>\n",
       "      <td>administration error first net clerical regist...</td>\n",
       "      <td>1.0</td>\n",
       "    </tr>\n",
       "    <tr>\n",
       "      <th>556295</th>\n",
       "      <td>co itchy left foot ongoing last months nil med...</td>\n",
       "      <td>0.0</td>\n",
       "    </tr>\n",
       "    <tr>\n",
       "      <th>556296</th>\n",
       "      <td>syncope home approx hrs states sitting chair w...</td>\n",
       "      <td>0.0</td>\n",
       "    </tr>\n",
       "    <tr>\n",
       "      <th>556297</th>\n",
       "      <td>tf auburn ed days history pr bleeding admissi...</td>\n",
       "      <td>0.0</td>\n",
       "    </tr>\n",
       "  </tbody>\n",
       "</table>\n",
       "<p>556298 rows × 2 columns</p>\n",
       "</div>"
      ],
      "text/plain": [
       "                                                     TEXT  CHRONIC_HISTORY\n",
       "0       abdomen distension last days vomiting patient ...              1.0\n",
       "1       gp referal low hb saw gp feeling lethargic rec...              0.0\n",
       "2       referred lmo ascitic tap c sob past days e abd...              0.0\n",
       "3         referred lmo w increasing abdomen distention NA              0.0\n",
       "4       presented abdomen bloating taking lasix last d...              0.0\n",
       "...                                                   ...              ...\n",
       "556293  f mdh surgery right vomiting possible pancreat...              0.0\n",
       "556294  administration error first net clerical regist...              1.0\n",
       "556295  co itchy left foot ongoing last months nil med...              0.0\n",
       "556296  syncope home approx hrs states sitting chair w...              0.0\n",
       "556297   tf auburn ed days history pr bleeding admissi...              0.0\n",
       "\n",
       "[556298 rows x 2 columns]"
      ]
     },
     "execution_count": 3,
     "metadata": {},
     "output_type": "execute_result"
    }
   ],
   "source": [
    "df_x = df[['TEXT','CHRONIC_HISTORY']]\n",
    "df_x"
   ]
  },
  {
   "cell_type": "code",
   "execution_count": 4,
   "metadata": {},
   "outputs": [
    {
     "data": {
      "text/plain": [
       "0         OTHER\n",
       "1         OTHER\n",
       "2         OTHER\n",
       "3         OTHER\n",
       "4         OTHER\n",
       "          ...  \n",
       "556293    OTHER\n",
       "556294    OTHER\n",
       "556295     CAT5\n",
       "556296    OTHER\n",
       "556297    OTHER\n",
       "Name: TRIAGE_CATEGORY, Length: 556298, dtype: object"
      ]
     },
     "execution_count": 4,
     "metadata": {},
     "output_type": "execute_result"
    }
   ],
   "source": [
    "# recode response variable\n",
    "mapping = {\n",
    "        '1':'CAT1',\n",
    "        '2':'OTHER',\n",
    "        '3':'OTHER',\n",
    "        '4':'OTHER',\n",
    "        '5':'CAT5',\n",
    "    }\n",
    "\n",
    "df_y = df['TRIAGE_CATEGORY'].replace(mapping)\n",
    "df_y"
   ]
  },
  {
   "cell_type": "code",
   "execution_count": 5,
   "metadata": {},
   "outputs": [],
   "source": [
    "#Train test split with stratified sampling for evaluation\n",
    "x_train, x_test, y_train, y_test = train_test_split(df_x, \n",
    "                                                    df_y, \n",
    "                                                    test_size = .3, \n",
    "                                                    shuffle = True, \n",
    "                                                    stratify = df_y, \n",
    "                                                    random_state = 3)"
   ]
  },
  {
   "cell_type": "code",
   "execution_count": 6,
   "metadata": {},
   "outputs": [
    {
     "data": {
      "text/html": [
       "<div>\n",
       "<style scoped>\n",
       "    .dataframe tbody tr th:only-of-type {\n",
       "        vertical-align: middle;\n",
       "    }\n",
       "\n",
       "    .dataframe tbody tr th {\n",
       "        vertical-align: top;\n",
       "    }\n",
       "\n",
       "    .dataframe thead th {\n",
       "        text-align: right;\n",
       "    }\n",
       "</style>\n",
       "<table border=\"1\" class=\"dataframe\">\n",
       "  <thead>\n",
       "    <tr style=\"text-align: right;\">\n",
       "      <th></th>\n",
       "      <th>TEXT</th>\n",
       "      <th>CHRONIC_HISTORY</th>\n",
       "    </tr>\n",
       "  </thead>\n",
       "  <tbody>\n",
       "    <tr>\n",
       "      <th>283732</th>\n",
       "      <td>gp abdominal pain associated nausea NA</td>\n",
       "      <td>0.0</td>\n",
       "    </tr>\n",
       "    <tr>\n",
       "      <th>395198</th>\n",
       "      <td>twisted knee football yesterday able weight be...</td>\n",
       "      <td>0.0</td>\n",
       "    </tr>\n",
       "    <tr>\n",
       "      <th>392491</th>\n",
       "      <td>bib parents right knee pain running fell knee ...</td>\n",
       "      <td>0.0</td>\n",
       "    </tr>\n",
       "    <tr>\n",
       "      <th>301729</th>\n",
       "      <td>biba home lower abdomen pain vomiting sob ambu...</td>\n",
       "      <td>0.0</td>\n",
       "    </tr>\n",
       "    <tr>\n",
       "      <th>213968</th>\n",
       "      <td>presented ed upper limb injury days ago fall NA</td>\n",
       "      <td>0.0</td>\n",
       "    </tr>\n",
       "    <tr>\n",
       "      <th>...</th>\n",
       "      <td>...</td>\n",
       "      <td>...</td>\n",
       "    </tr>\n",
       "    <tr>\n",
       "      <th>244714</th>\n",
       "      <td>patient biba presented suicidal ideation fall ...</td>\n",
       "      <td>0.0</td>\n",
       "    </tr>\n",
       "    <tr>\n",
       "      <th>180444</th>\n",
       "      <td>presents laceration nail bed top right middle ...</td>\n",
       "      <td>0.0</td>\n",
       "    </tr>\n",
       "    <tr>\n",
       "      <th>418327</th>\n",
       "      <td>biba presents raf history af chest heaviness s...</td>\n",
       "      <td>0.0</td>\n",
       "    </tr>\n",
       "    <tr>\n",
       "      <th>394912</th>\n",
       "      <td>child bib parents pain behind right knee histo...</td>\n",
       "      <td>0.0</td>\n",
       "    </tr>\n",
       "    <tr>\n",
       "      <th>120376</th>\n",
       "      <td>biba  trip fall floor fooh left hip unable amb...</td>\n",
       "      <td>0.0</td>\n",
       "    </tr>\n",
       "  </tbody>\n",
       "</table>\n",
       "<p>389408 rows × 2 columns</p>\n",
       "</div>"
      ],
      "text/plain": [
       "                                                     TEXT  CHRONIC_HISTORY\n",
       "283732             gp abdominal pain associated nausea NA              0.0\n",
       "395198  twisted knee football yesterday able weight be...              0.0\n",
       "392491  bib parents right knee pain running fell knee ...              0.0\n",
       "301729  biba home lower abdomen pain vomiting sob ambu...              0.0\n",
       "213968    presented ed upper limb injury days ago fall NA              0.0\n",
       "...                                                   ...              ...\n",
       "244714  patient biba presented suicidal ideation fall ...              0.0\n",
       "180444  presents laceration nail bed top right middle ...              0.0\n",
       "418327  biba presents raf history af chest heaviness s...              0.0\n",
       "394912  child bib parents pain behind right knee histo...              0.0\n",
       "120376  biba  trip fall floor fooh left hip unable amb...              0.0\n",
       "\n",
       "[389408 rows x 2 columns]"
      ]
     },
     "execution_count": 6,
     "metadata": {},
     "output_type": "execute_result"
    }
   ],
   "source": [
    "x_train"
   ]
  },
  {
   "cell_type": "code",
   "execution_count": 7,
   "metadata": {},
   "outputs": [],
   "source": [
    "# build the pipeline\n",
    "# https://scikit-learn.org/stable/auto_examples/compose/plot_column_transformer_mixed_types.html\n",
    "\n",
    "preprocess = ColumnTransformer(\n",
    "    [('description_tfidf', TfidfVectorizer(), 'TEXT')],\n",
    "    remainder='passthrough')\n",
    "\n",
    "# Now we have a full prediction pipeline.\n",
    "tfidf_lr_pipe = Pipeline(steps=[('preprocessor', preprocess),\n",
    "                                ('xgboost', xgb.XGBClassifier(objective='multi:softprob'))])\n"
   ]
  },
  {
   "cell_type": "code",
   "execution_count": 8,
   "metadata": {},
   "outputs": [
    {
     "name": "stdout",
     "output_type": "stream",
     "text": [
      "Accuracy for Tf-Idf & XGBoost Classifier :  0.9318503985905734\n"
     ]
    }
   ],
   "source": [
    "# fit model\n",
    "tfidf_lr_pipe.fit(x_train, y_train)\n",
    "\n",
    "# output scores on training data\n",
    "scores = cross_val_score(tfidf_lr_pipe, x_train, y_train, cv=5)\n",
    "print('Accuracy for Tf-Idf & XGBoost Classifier : ', scores.mean())"
   ]
  },
  {
   "cell_type": "code",
   "execution_count": 9,
   "metadata": {},
   "outputs": [
    {
     "data": {
      "text/plain": [
       "['MODEL_1.pkl']"
      ]
     },
     "execution_count": 9,
     "metadata": {},
     "output_type": "execute_result"
    }
   ],
   "source": [
    "# save model\n",
    "filename = 'MODEL_1.pkl'\n",
    "joblib.dump(tfidf_lr_pipe, filename)"
   ]
  },
  {
   "cell_type": "code",
   "execution_count": 10,
   "metadata": {},
   "outputs": [
    {
     "name": "stdout",
     "output_type": "stream",
     "text": [
      "Accuracy on Test data: 93.21%\n"
     ]
    }
   ],
   "source": [
    "# output scores on test data\n",
    "y_preds = tfidf_lr_pipe.predict(x_test)\n",
    "accuracy = accuracy_score(y_test, y_preds)\n",
    "print(\"Accuracy on Test data: %.2f%%\" % (accuracy * 100.0))"
   ]
  },
  {
   "cell_type": "code",
   "execution_count": 11,
   "metadata": {},
   "outputs": [],
   "source": [
    "# code to load model later\n",
    "# import joblib\n",
    "# clf = joblib.load('CAT125_XGB.sav')"
   ]
  },
  {
   "cell_type": "code",
   "execution_count": 12,
   "metadata": {},
   "outputs": [
    {
     "data": {
      "text/html": [
       "<div>\n",
       "<style scoped>\n",
       "    .dataframe tbody tr th:only-of-type {\n",
       "        vertical-align: middle;\n",
       "    }\n",
       "\n",
       "    .dataframe tbody tr th {\n",
       "        vertical-align: top;\n",
       "    }\n",
       "\n",
       "    .dataframe thead th {\n",
       "        text-align: right;\n",
       "    }\n",
       "</style>\n",
       "<table border=\"1\" class=\"dataframe\">\n",
       "  <thead>\n",
       "    <tr style=\"text-align: right;\">\n",
       "      <th></th>\n",
       "      <th>CAT1</th>\n",
       "      <th>CAT5</th>\n",
       "      <th>OTHER</th>\n",
       "    </tr>\n",
       "  </thead>\n",
       "  <tbody>\n",
       "    <tr>\n",
       "      <th>CAT1</th>\n",
       "      <td>2105</td>\n",
       "      <td>0</td>\n",
       "      <td>436</td>\n",
       "    </tr>\n",
       "    <tr>\n",
       "      <th>CAT5</th>\n",
       "      <td>4</td>\n",
       "      <td>2774</td>\n",
       "      <td>9934</td>\n",
       "    </tr>\n",
       "    <tr>\n",
       "      <th>OTHER</th>\n",
       "      <td>178</td>\n",
       "      <td>779</td>\n",
       "      <td>150680</td>\n",
       "    </tr>\n",
       "  </tbody>\n",
       "</table>\n",
       "</div>"
      ],
      "text/plain": [
       "       CAT1  CAT5   OTHER\n",
       "CAT1   2105     0     436\n",
       "CAT5      4  2774    9934\n",
       "OTHER   178   779  150680"
      ]
     },
     "execution_count": 12,
     "metadata": {},
     "output_type": "execute_result"
    }
   ],
   "source": [
    "labels = np.unique(y_test)\n",
    "a =  confusion_matrix(y_test, y_preds, labels=labels)\n",
    "pd.DataFrame(a, index=labels, columns=labels)"
   ]
  },
  {
   "cell_type": "code",
   "execution_count": 13,
   "metadata": {},
   "outputs": [
    {
     "data": {
      "text/html": [
       "<div>\n",
       "<style scoped>\n",
       "    .dataframe tbody tr th:only-of-type {\n",
       "        vertical-align: middle;\n",
       "    }\n",
       "\n",
       "    .dataframe tbody tr th {\n",
       "        vertical-align: top;\n",
       "    }\n",
       "\n",
       "    .dataframe thead th {\n",
       "        text-align: right;\n",
       "    }\n",
       "</style>\n",
       "<table border=\"1\" class=\"dataframe\">\n",
       "  <thead>\n",
       "    <tr style=\"text-align: right;\">\n",
       "      <th>Predicted</th>\n",
       "      <th>CAT1</th>\n",
       "      <th>CAT5</th>\n",
       "      <th>OTHER</th>\n",
       "      <th>All</th>\n",
       "    </tr>\n",
       "    <tr>\n",
       "      <th>True</th>\n",
       "      <th></th>\n",
       "      <th></th>\n",
       "      <th></th>\n",
       "      <th></th>\n",
       "    </tr>\n",
       "  </thead>\n",
       "  <tbody>\n",
       "    <tr>\n",
       "      <th>CAT1</th>\n",
       "      <td>2105</td>\n",
       "      <td>0</td>\n",
       "      <td>436</td>\n",
       "      <td>2541</td>\n",
       "    </tr>\n",
       "    <tr>\n",
       "      <th>CAT5</th>\n",
       "      <td>4</td>\n",
       "      <td>2774</td>\n",
       "      <td>9934</td>\n",
       "      <td>12712</td>\n",
       "    </tr>\n",
       "    <tr>\n",
       "      <th>OTHER</th>\n",
       "      <td>178</td>\n",
       "      <td>779</td>\n",
       "      <td>150680</td>\n",
       "      <td>151637</td>\n",
       "    </tr>\n",
       "    <tr>\n",
       "      <th>All</th>\n",
       "      <td>2287</td>\n",
       "      <td>3553</td>\n",
       "      <td>161050</td>\n",
       "      <td>166890</td>\n",
       "    </tr>\n",
       "  </tbody>\n",
       "</table>\n",
       "</div>"
      ],
      "text/plain": [
       "Predicted  CAT1  CAT5   OTHER     All\n",
       "True                                 \n",
       "CAT1       2105     0     436    2541\n",
       "CAT5          4  2774    9934   12712\n",
       "OTHER       178   779  150680  151637\n",
       "All        2287  3553  161050  166890"
      ]
     },
     "execution_count": 13,
     "metadata": {},
     "output_type": "execute_result"
    }
   ],
   "source": [
    "pd.crosstab(y_test, y_preds, rownames=['True'], colnames=['Predicted'], margins=True)"
   ]
  },
  {
   "cell_type": "code",
   "execution_count": 14,
   "metadata": {},
   "outputs": [
    {
     "name": "stdout",
     "output_type": "stream",
     "text": [
      "              precision    recall  f1-score   support\n",
      "\n",
      "        CAT1       0.92      0.83      0.87      2541\n",
      "        CAT5       0.78      0.22      0.34     12712\n",
      "       OTHER       0.94      0.99      0.96    151637\n",
      "\n",
      "    accuracy                           0.93    166890\n",
      "   macro avg       0.88      0.68      0.73    166890\n",
      "weighted avg       0.92      0.93      0.91    166890\n",
      "\n"
     ]
    }
   ],
   "source": [
    "from sklearn.metrics import classification_report\n",
    "print(classification_report(y_test, y_preds, target_names=labels))"
   ]
  },
  {
   "cell_type": "code",
   "execution_count": null,
   "metadata": {},
   "outputs": [],
   "source": []
  }
 ],
 "metadata": {
  "kernelspec": {
   "display_name": "neural_env",
   "language": "python",
   "name": "neural_env"
  },
  "language_info": {
   "codemirror_mode": {
    "name": "ipython",
    "version": 3
   },
   "file_extension": ".py",
   "mimetype": "text/x-python",
   "name": "python",
   "nbconvert_exporter": "python",
   "pygments_lexer": "ipython3",
   "version": "3.6.10"
  }
 },
 "nbformat": 4,
 "nbformat_minor": 2
}
